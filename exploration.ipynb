{
 "cells": [
  {
   "cell_type": "code",
   "execution_count": 148,
   "metadata": {},
   "outputs": [
    {
     "name": "stdout",
     "output_type": "stream",
     "text": [
      "Collecting sklearn\n",
      "  Using cached sklearn-0.0-py2.py3-none-any.whl\n",
      "Collecting scikit-learn\n",
      "  Downloading scikit_learn-1.0.1-cp37-cp37m-macosx_10_13_x86_64.whl (7.9 MB)\n",
      "     |████████████████████████████████| 7.9 MB 4.6 MB/s            \n",
      "\u001b[?25hRequirement already satisfied: numpy>=1.14.6 in ./asrenv/lib/python3.7/site-packages (from scikit-learn->sklearn) (1.21.4)\n",
      "Collecting joblib>=0.11\n",
      "  Downloading joblib-1.1.0-py2.py3-none-any.whl (306 kB)\n",
      "     |████████████████████████████████| 306 kB 4.3 MB/s            \n",
      "\u001b[?25hCollecting scipy>=1.1.0\n",
      "  Downloading scipy-1.7.3-cp37-cp37m-macosx_10_9_x86_64.whl (33.0 MB)\n",
      "     |████████████████████████████████| 33.0 MB 102 kB/s             \n",
      "\u001b[?25hCollecting threadpoolctl>=2.0.0\n",
      "  Downloading threadpoolctl-3.0.0-py3-none-any.whl (14 kB)\n",
      "Installing collected packages: threadpoolctl, scipy, joblib, scikit-learn, sklearn\n",
      "Successfully installed joblib-1.1.0 scikit-learn-1.0.1 scipy-1.7.3 sklearn-0.0 threadpoolctl-3.0.0\n"
     ]
    }
   ],
   "source": [
    "!pip install sklearn"
   ]
  },
  {
   "cell_type": "code",
   "execution_count": 3,
   "metadata": {},
   "outputs": [],
   "source": [
    "import pandas as pd\n",
    "import matplotlib.pyplot as plt\n",
    "import numpy as np"
   ]
  },
  {
   "cell_type": "code",
   "execution_count": 4,
   "metadata": {},
   "outputs": [],
   "source": [
    "data = pd.read_excel(\"data/preprocessed_data.xlsx\")"
   ]
  },
  {
   "cell_type": "code",
   "execution_count": 5,
   "metadata": {},
   "outputs": [
    {
     "data": {
      "text/html": [
       "<div>\n",
       "<style scoped>\n",
       "    .dataframe tbody tr th:only-of-type {\n",
       "        vertical-align: middle;\n",
       "    }\n",
       "\n",
       "    .dataframe tbody tr th {\n",
       "        vertical-align: top;\n",
       "    }\n",
       "\n",
       "    .dataframe thead th {\n",
       "        text-align: right;\n",
       "    }\n",
       "</style>\n",
       "<table border=\"1\" class=\"dataframe\">\n",
       "  <thead>\n",
       "    <tr style=\"text-align: right;\">\n",
       "      <th></th>\n",
       "      <th>Unnamed: 0</th>\n",
       "      <th>id</th>\n",
       "      <th>type</th>\n",
       "      <th>date</th>\n",
       "      <th>betterDate</th>\n",
       "      <th>title</th>\n",
       "      <th>abstract</th>\n",
       "    </tr>\n",
       "  </thead>\n",
       "  <tbody>\n",
       "    <tr>\n",
       "      <th>0</th>\n",
       "      <td>18</td>\n",
       "      <td>13.16</td>\n",
       "      <td>Overig</td>\n",
       "      <td>2015</td>\n",
       "      <td>NaT</td>\n",
       "      <td>Verzoek_regulier__facultatief_advies_uitgebr_p...</td>\n",
       "      <td>\\n\\n\\n\\n\\n13.16 \\n      \\n\\nOns briefkenmerk: ...</td>\n",
       "    </tr>\n",
       "    <tr>\n",
       "      <th>1</th>\n",
       "      <td>29</td>\n",
       "      <td>8.17</td>\n",
       "      <td>Correspondentie</td>\n",
       "      <td>2007-2013</td>\n",
       "      <td>NaT</td>\n",
       "      <td>Toezicht_ Correspondentie n.a.v. Toezicht en H...</td>\n",
       "      <td>\\n\\n\\n\\n\\n \\n\\n\\n\\n\\n\\n\\n\\n\\n\\n\\n\\n\\n\\n\\n\\n\\n\\...</td>\n",
       "    </tr>\n",
       "    <tr>\n",
       "      <th>2</th>\n",
       "      <td>31</td>\n",
       "      <td>22.11</td>\n",
       "      <td>Mail</td>\n",
       "      <td>??</td>\n",
       "      <td>NaT</td>\n",
       "      <td>FW  Draaiboek demonstratie NAM AZC 24 sept...</td>\n",
       "      <td>\\n\\n\\nDate : 1-1-0001 00:00:00 \\nTo : \"Marco O...</td>\n",
       "    </tr>\n",
       "    <tr>\n",
       "      <th>3</th>\n",
       "      <td>32</td>\n",
       "      <td>32.3</td>\n",
       "      <td>Correspondentie</td>\n",
       "      <td>NaN</td>\n",
       "      <td>NaT</td>\n",
       "      <td>Uitgaande mail mededeling akkoord bijdrage aan...</td>\n",
       "      <td>\\n\\n\\n\\n\\n| bijdrage gemeente Assen Pagina 1 \\...</td>\n",
       "    </tr>\n",
       "    <tr>\n",
       "      <th>4</th>\n",
       "      <td>35</td>\n",
       "      <td>8.10</td>\n",
       "      <td>Vergunning</td>\n",
       "      <td>1997</td>\n",
       "      <td>NaT</td>\n",
       "      <td>Rapportage n.a.v. vergunningen-meldingen.pdf_j...</td>\n",
       "      <td>\\n\\n\\n\\n\\n  \\ncle) \\n   \\n\\n\\n\\n\\n\\n\\n\\n\\n\\n\\n...</td>\n",
       "    </tr>\n",
       "    <tr>\n",
       "      <th>...</th>\n",
       "      <td>...</td>\n",
       "      <td>...</td>\n",
       "      <td>...</td>\n",
       "      <td>...</td>\n",
       "      <td>...</td>\n",
       "      <td>...</td>\n",
       "      <td>...</td>\n",
       "    </tr>\n",
       "    <tr>\n",
       "      <th>2504</th>\n",
       "      <td>2537</td>\n",
       "      <td>32.1</td>\n",
       "      <td>Bestuurlijk besluit</td>\n",
       "      <td>2005-04-26 00:00:00</td>\n",
       "      <td>NaT</td>\n",
       "      <td>BenW besluit BB54473 inzake deelname gem Assen...</td>\n",
       "      <td>\\n\\n\\nÀ \\n\\nfifi Gemeente Assen \\n\\n\\n\\n    \\n...</td>\n",
       "    </tr>\n",
       "    <tr>\n",
       "      <th>2505</th>\n",
       "      <td>2538</td>\n",
       "      <td>32.5</td>\n",
       "      <td>Document</td>\n",
       "      <td>2005-04-01 00:00:00</td>\n",
       "      <td>NaT</td>\n",
       "      <td>Persbericht Energy Valley_</td>\n",
       "      <td>\\n\\n\\n\\n\\n32.5 \\n      \\n\\nÓ Gemeente Assen \\n...</td>\n",
       "    </tr>\n",
       "    <tr>\n",
       "      <th>2506</th>\n",
       "      <td>2539</td>\n",
       "      <td>3.35</td>\n",
       "      <td>Mail</td>\n",
       "      <td>2004-12-13 00:00:00</td>\n",
       "      <td>2016-09-09 10:47:53</td>\n",
       "      <td>Melding betoging 24 september NAM</td>\n",
       "      <td>\\n\\n\\n\\n\\n\\n\\nDate : 9-9-2016 10:47:53 \\nF B n...</td>\n",
       "    </tr>\n",
       "    <tr>\n",
       "      <th>2507</th>\n",
       "      <td>2540</td>\n",
       "      <td>3.40</td>\n",
       "      <td>Document</td>\n",
       "      <td>2004-12-13 00:00:00</td>\n",
       "      <td>NaT</td>\n",
       "      <td>Locaties in Groningen_</td>\n",
       "      <td>\\n\\n\\nCentrale meldkamer NAM Assen (CMK) \\n\\nB...</td>\n",
       "    </tr>\n",
       "    <tr>\n",
       "      <th>2508</th>\n",
       "      <td>2541</td>\n",
       "      <td>13.11</td>\n",
       "      <td>Vergunning</td>\n",
       "      <td>1905-07-01 00:00:00</td>\n",
       "      <td>NaT</td>\n",
       "      <td>scannen_kleur_300dpi_58_20190509_164845.pdf  ...</td>\n",
       "      <td>\\n\\n\\nGemeente Assen \\n\\n\\n\\n\\n\\ne STADSBALIE ...</td>\n",
       "    </tr>\n",
       "  </tbody>\n",
       "</table>\n",
       "<p>2509 rows × 7 columns</p>\n",
       "</div>"
      ],
      "text/plain": [
       "      Unnamed: 0     id                 type                 date  \\\n",
       "0             18  13.16               Overig                 2015   \n",
       "1             29   8.17      Correspondentie            2007-2013   \n",
       "2             31  22.11                 Mail                   ??   \n",
       "3             32   32.3      Correspondentie                  NaN   \n",
       "4             35   8.10           Vergunning                 1997   \n",
       "...          ...    ...                  ...                  ...   \n",
       "2504        2537   32.1  Bestuurlijk besluit  2005-04-26 00:00:00   \n",
       "2505        2538   32.5             Document  2005-04-01 00:00:00   \n",
       "2506        2539   3.35                 Mail  2004-12-13 00:00:00   \n",
       "2507        2540   3.40             Document  2004-12-13 00:00:00   \n",
       "2508        2541  13.11           Vergunning  1905-07-01 00:00:00   \n",
       "\n",
       "              betterDate                                              title  \\\n",
       "0                    NaT  Verzoek_regulier__facultatief_advies_uitgebr_p...   \n",
       "1                    NaT  Toezicht_ Correspondentie n.a.v. Toezicht en H...   \n",
       "2                    NaT      FW  Draaiboek demonstratie NAM AZC 24 sept...   \n",
       "3                    NaT  Uitgaande mail mededeling akkoord bijdrage aan...   \n",
       "4                    NaT  Rapportage n.a.v. vergunningen-meldingen.pdf_j...   \n",
       "...                  ...                                                ...   \n",
       "2504                 NaT  BenW besluit BB54473 inzake deelname gem Assen...   \n",
       "2505                 NaT                         Persbericht Energy Valley_   \n",
       "2506 2016-09-09 10:47:53                 Melding betoging 24 september NAM    \n",
       "2507                 NaT                             Locaties in Groningen_   \n",
       "2508                 NaT   scannen_kleur_300dpi_58_20190509_164845.pdf  ...   \n",
       "\n",
       "                                               abstract  \n",
       "0     \\n\\n\\n\\n\\n13.16 \\n      \\n\\nOns briefkenmerk: ...  \n",
       "1     \\n\\n\\n\\n\\n \\n\\n\\n\\n\\n\\n\\n\\n\\n\\n\\n\\n\\n\\n\\n\\n\\n\\...  \n",
       "2     \\n\\n\\nDate : 1-1-0001 00:00:00 \\nTo : \"Marco O...  \n",
       "3     \\n\\n\\n\\n\\n| bijdrage gemeente Assen Pagina 1 \\...  \n",
       "4     \\n\\n\\n\\n\\n  \\ncle) \\n   \\n\\n\\n\\n\\n\\n\\n\\n\\n\\n\\n...  \n",
       "...                                                 ...  \n",
       "2504  \\n\\n\\nÀ \\n\\nfifi Gemeente Assen \\n\\n\\n\\n    \\n...  \n",
       "2505  \\n\\n\\n\\n\\n32.5 \\n      \\n\\nÓ Gemeente Assen \\n...  \n",
       "2506  \\n\\n\\n\\n\\n\\n\\nDate : 9-9-2016 10:47:53 \\nF B n...  \n",
       "2507  \\n\\n\\nCentrale meldkamer NAM Assen (CMK) \\n\\nB...  \n",
       "2508  \\n\\n\\nGemeente Assen \\n\\n\\n\\n\\n\\ne STADSBALIE ...  \n",
       "\n",
       "[2509 rows x 7 columns]"
      ]
     },
     "execution_count": 5,
     "metadata": {},
     "output_type": "execute_result"
    }
   ],
   "source": [
    "data"
   ]
  },
  {
   "cell_type": "code",
   "execution_count": 6,
   "metadata": {},
   "outputs": [
    {
     "data": {
      "image/png": "[encoded data removed]",
      "text/plain": [
       "<Figure size 1800x576 with 1 Axes>"
      ]
     },
     "metadata": {
      "needs_background": "light"
     },
     "output_type": "display_data"
    }
   ],
   "source": [
    "plt.figure(figsize=(25,8))\n",
    "plt.hist(data.type, histtype='bar', bins=13)\n",
    "plt.show()"
   ]
  },
  {
   "cell_type": "code",
   "execution_count": 7,
   "metadata": {},
   "outputs": [
    {
     "data": {
      "text/plain": [
       "<BarContainer object of 14 artists>"
      ]
     },
     "execution_count": 7,
     "metadata": {},
     "output_type": "execute_result"
    },
    {
     "data": {
      "image/png": "[encoded data removed]",
      "text/plain": [
       "<Figure size 432x288 with 1 Axes>"
      ]
     },
     "metadata": {
      "needs_background": "light"
     },
     "output_type": "display_data"
    }
   ],
   "source": [
    "types = [\"Mail\",                 \n",
    "\"Correspondentie\",       \n",
    "\"Document\",          \n",
    "\"Vergunningaanvraag\",      \n",
    "\"Bestuurlijk besluit \",     \n",
    "\"Overig\",              \n",
    "\"Rapport\",                  \n",
    "\"correspondentie\",   \n",
    "\"Vergunning\",            \n",
    "\"Diversen\",\n",
    "\"Diversen\",      \n",
    "\"Onbekend\",                \n",
    "\"Presentatie\",              \n",
    "\"Overeenkomst\"]    \n",
    "plt.barh(types, data['type'].value_counts(normalize=False))"
   ]
  },
  {
   "cell_type": "code",
   "execution_count": 8,
   "metadata": {},
   "outputs": [
    {
     "data": {
      "text/plain": [
       "Mail                   2106\n",
       "Correspondentie         170\n",
       "Document                 83\n",
       "Vergunningaanvraag       53\n",
       "Bestuurlijk besluit      39\n",
       "Overig                   27\n",
       "Rapport                  15\n",
       "correspondentie           6\n",
       "Vergunning                5\n",
       "Diversen                  1\n",
       " Diversen                 1\n",
       "Onbekend                  1\n",
       "Presentatie               1\n",
       "Overeenkomst              1\n",
       "Name: type, dtype: int64"
      ]
     },
     "execution_count": 8,
     "metadata": {},
     "output_type": "execute_result"
    }
   ],
   "source": [
    "data['type'].value_counts(normalize=False)"
   ]
  },
  {
   "cell_type": "code",
   "execution_count": 9,
   "metadata": {},
   "outputs": [
    {
     "data": {
      "text/plain": [
       "32767    230\n",
       "2500       4\n",
       "768        4\n",
       "1365       3\n",
       "1732       3\n",
       "        ... \n",
       "7596       1\n",
       "2969       1\n",
       "12126      1\n",
       "3379       1\n",
       "22192      1\n",
       "Name: abstract, Length: 2052, dtype: int64"
      ]
     },
     "execution_count": 9,
     "metadata": {},
     "output_type": "execute_result"
    }
   ],
   "source": [
    "# data['abstract'].apply(len).mean()\n",
    "# data.abstract.map(len).max()\n",
    "data.abstract.str.len().value_counts() #distirbution of text lengths"
   ]
  },
  {
   "cell_type": "code",
   "execution_count": 10,
   "metadata": {},
   "outputs": [
    {
     "name": "stdout",
     "output_type": "stream",
     "text": [
      "<class 'pandas.core.frame.DataFrame'>\n",
      "RangeIndex: 2509 entries, 0 to 2508\n",
      "Data columns (total 7 columns):\n",
      " #   Column      Non-Null Count  Dtype         \n",
      "---  ------      --------------  -----         \n",
      " 0   Unnamed: 0  2509 non-null   int64         \n",
      " 1   id          2509 non-null   object        \n",
      " 2   type        2509 non-null   object        \n",
      " 3   date        2506 non-null   object        \n",
      " 4   betterDate  2071 non-null   datetime64[ns]\n",
      " 5   title       2509 non-null   object        \n",
      " 6   abstract    2509 non-null   object        \n",
      "dtypes: datetime64[ns](1), int64(1), object(5)\n",
      "memory usage: 37.2 MB\n"
     ]
    }
   ],
   "source": [
    "data.info(memory_usage='deep')"
   ]
  },
  {
   "cell_type": "code",
   "execution_count": 11,
   "metadata": {},
   "outputs": [
    {
     "data": {
      "text/html": [
       "<div>\n",
       "<style scoped>\n",
       "    .dataframe tbody tr th:only-of-type {\n",
       "        vertical-align: middle;\n",
       "    }\n",
       "\n",
       "    .dataframe tbody tr th {\n",
       "        vertical-align: top;\n",
       "    }\n",
       "\n",
       "    .dataframe thead th {\n",
       "        text-align: right;\n",
       "    }\n",
       "</style>\n",
       "<table border=\"1\" class=\"dataframe\">\n",
       "  <thead>\n",
       "    <tr style=\"text-align: right;\">\n",
       "      <th></th>\n",
       "      <th>type</th>\n",
       "      <th>date</th>\n",
       "      <th>title</th>\n",
       "      <th>abstract</th>\n",
       "    </tr>\n",
       "  </thead>\n",
       "  <tbody>\n",
       "    <tr>\n",
       "      <th>0</th>\n",
       "      <td>Overig</td>\n",
       "      <td>2015</td>\n",
       "      <td>Verzoek_regulier__facultatief_advies_uitgebr_p...</td>\n",
       "      <td>\\n\\n\\n\\n\\n13.16 \\n      \\n\\nOns briefkenmerk: ...</td>\n",
       "    </tr>\n",
       "    <tr>\n",
       "      <th>1</th>\n",
       "      <td>Correspondentie</td>\n",
       "      <td>2007-2013</td>\n",
       "      <td>Toezicht_ Correspondentie n.a.v. Toezicht en H...</td>\n",
       "      <td>\\n\\n\\n\\n\\n \\n\\n\\n\\n\\n\\n\\n\\n\\n\\n\\n\\n\\n\\n\\n\\n\\n\\...</td>\n",
       "    </tr>\n",
       "    <tr>\n",
       "      <th>2</th>\n",
       "      <td>Mail</td>\n",
       "      <td>??</td>\n",
       "      <td>FW  Draaiboek demonstratie NAM AZC 24 sept...</td>\n",
       "      <td>\\n\\n\\nDate : 1-1-0001 00:00:00 \\nTo : \"Marco O...</td>\n",
       "    </tr>\n",
       "    <tr>\n",
       "      <th>3</th>\n",
       "      <td>Correspondentie</td>\n",
       "      <td>NaN</td>\n",
       "      <td>Uitgaande mail mededeling akkoord bijdrage aan...</td>\n",
       "      <td>\\n\\n\\n\\n\\n| bijdrage gemeente Assen Pagina 1 \\...</td>\n",
       "    </tr>\n",
       "    <tr>\n",
       "      <th>4</th>\n",
       "      <td>Vergunning</td>\n",
       "      <td>1997</td>\n",
       "      <td>Rapportage n.a.v. vergunningen-meldingen.pdf_j...</td>\n",
       "      <td>\\n\\n\\n\\n\\n  \\ncle) \\n   \\n\\n\\n\\n\\n\\n\\n\\n\\n\\n\\n...</td>\n",
       "    </tr>\n",
       "    <tr>\n",
       "      <th>...</th>\n",
       "      <td>...</td>\n",
       "      <td>...</td>\n",
       "      <td>...</td>\n",
       "      <td>...</td>\n",
       "    </tr>\n",
       "    <tr>\n",
       "      <th>2504</th>\n",
       "      <td>Bestuurlijk besluit</td>\n",
       "      <td>2005-04-26 00:00:00</td>\n",
       "      <td>BenW besluit BB54473 inzake deelname gem Assen...</td>\n",
       "      <td>\\n\\n\\nÀ \\n\\nfifi Gemeente Assen \\n\\n\\n\\n    \\n...</td>\n",
       "    </tr>\n",
       "    <tr>\n",
       "      <th>2505</th>\n",
       "      <td>Document</td>\n",
       "      <td>2005-04-01 00:00:00</td>\n",
       "      <td>Persbericht Energy Valley_</td>\n",
       "      <td>\\n\\n\\n\\n\\n32.5 \\n      \\n\\nÓ Gemeente Assen \\n...</td>\n",
       "    </tr>\n",
       "    <tr>\n",
       "      <th>2506</th>\n",
       "      <td>Mail</td>\n",
       "      <td>2004-12-13 00:00:00</td>\n",
       "      <td>Melding betoging 24 september NAM</td>\n",
       "      <td>\\n\\n\\n\\n\\n\\n\\nDate : 9-9-2016 10:47:53 \\nF B n...</td>\n",
       "    </tr>\n",
       "    <tr>\n",
       "      <th>2507</th>\n",
       "      <td>Document</td>\n",
       "      <td>2004-12-13 00:00:00</td>\n",
       "      <td>Locaties in Groningen_</td>\n",
       "      <td>\\n\\n\\nCentrale meldkamer NAM Assen (CMK) \\n\\nB...</td>\n",
       "    </tr>\n",
       "    <tr>\n",
       "      <th>2508</th>\n",
       "      <td>Vergunning</td>\n",
       "      <td>1905-07-01 00:00:00</td>\n",
       "      <td>scannen_kleur_300dpi_58_20190509_164845.pdf  ...</td>\n",
       "      <td>\\n\\n\\nGemeente Assen \\n\\n\\n\\n\\n\\ne STADSBALIE ...</td>\n",
       "    </tr>\n",
       "  </tbody>\n",
       "</table>\n",
       "<p>2509 rows × 4 columns</p>\n",
       "</div>"
      ],
      "text/plain": [
       "                     type                 date  \\\n",
       "0                  Overig                 2015   \n",
       "1         Correspondentie            2007-2013   \n",
       "2                    Mail                   ??   \n",
       "3         Correspondentie                  NaN   \n",
       "4              Vergunning                 1997   \n",
       "...                   ...                  ...   \n",
       "2504  Bestuurlijk besluit  2005-04-26 00:00:00   \n",
       "2505             Document  2005-04-01 00:00:00   \n",
       "2506                 Mail  2004-12-13 00:00:00   \n",
       "2507             Document  2004-12-13 00:00:00   \n",
       "2508           Vergunning  1905-07-01 00:00:00   \n",
       "\n",
       "                                                  title  \\\n",
       "0     Verzoek_regulier__facultatief_advies_uitgebr_p...   \n",
       "1     Toezicht_ Correspondentie n.a.v. Toezicht en H...   \n",
       "2         FW  Draaiboek demonstratie NAM AZC 24 sept...   \n",
       "3     Uitgaande mail mededeling akkoord bijdrage aan...   \n",
       "4     Rapportage n.a.v. vergunningen-meldingen.pdf_j...   \n",
       "...                                                 ...   \n",
       "2504  BenW besluit BB54473 inzake deelname gem Assen...   \n",
       "2505                         Persbericht Energy Valley_   \n",
       "2506                 Melding betoging 24 september NAM    \n",
       "2507                             Locaties in Groningen_   \n",
       "2508   scannen_kleur_300dpi_58_20190509_164845.pdf  ...   \n",
       "\n",
       "                                               abstract  \n",
       "0     \\n\\n\\n\\n\\n13.16 \\n      \\n\\nOns briefkenmerk: ...  \n",
       "1     \\n\\n\\n\\n\\n \\n\\n\\n\\n\\n\\n\\n\\n\\n\\n\\n\\n\\n\\n\\n\\n\\n\\...  \n",
       "2     \\n\\n\\nDate : 1-1-0001 00:00:00 \\nTo : \"Marco O...  \n",
       "3     \\n\\n\\n\\n\\n| bijdrage gemeente Assen Pagina 1 \\...  \n",
       "4     \\n\\n\\n\\n\\n  \\ncle) \\n   \\n\\n\\n\\n\\n\\n\\n\\n\\n\\n\\n...  \n",
       "...                                                 ...  \n",
       "2504  \\n\\n\\nÀ \\n\\nfifi Gemeente Assen \\n\\n\\n\\n    \\n...  \n",
       "2505  \\n\\n\\n\\n\\n32.5 \\n      \\n\\nÓ Gemeente Assen \\n...  \n",
       "2506  \\n\\n\\n\\n\\n\\n\\nDate : 9-9-2016 10:47:53 \\nF B n...  \n",
       "2507  \\n\\n\\nCentrale meldkamer NAM Assen (CMK) \\n\\nB...  \n",
       "2508  \\n\\n\\nGemeente Assen \\n\\n\\n\\n\\n\\ne STADSBALIE ...  \n",
       "\n",
       "[2509 rows x 4 columns]"
      ]
     },
     "execution_count": 11,
     "metadata": {},
     "output_type": "execute_result"
    }
   ],
   "source": [
    "data.count()\n",
    "# remove column record_id\n",
    "data.drop(columns=[\"id\"], inplace=True)\n",
    "# remove column 'Unnamed: 0'\n",
    "data.drop(columns=[\"Unnamed: 0\"], inplace=True)\n",
    "betterDate = data.betterDate #in case we need it later\n",
    "data.drop(labels=\"betterDate\", axis=1, inplace=True)\n",
    "\n",
    "data"
   ]
  },
  {
   "cell_type": "markdown",
   "metadata": {},
   "source": [
    "## Text pre processing"
   ]
  },
  {
   "cell_type": "code",
   "execution_count": 12,
   "metadata": {},
   "outputs": [],
   "source": [
    "def tokenizer(text):\n",
    "    return text.split()\n",
    "def flatten(list_of_lists):\n",
    "    return [item for sublist in list_of_lists for item in sublist]"
   ]
  },
  {
   "cell_type": "code",
   "execution_count": 13,
   "metadata": {},
   "outputs": [],
   "source": [
    "doc_data = data.abstract\n",
    "docs = doc_data.to_list()"
   ]
  },
  {
   "cell_type": "code",
   "execution_count": 14,
   "metadata": {},
   "outputs": [
    {
     "name": "stdout",
     "output_type": "stream",
     "text": [
      "[('de', 132443), ('van', 94217), ('het', 68073), ('en', 67494), ('in', 44407), ('een', 40449), ('is', 30928), ('te', 28871), ('op', 27187), ('voor', 26851), ('dat', 24182), ('met', 20129), ('aan', 18139), ('De', 17313), ('winningsplan', 15153), ('u', 14897), ('om', 13509), ('niet', 12772), ('zijn', 12515), ('worden', 11389)]\n"
     ]
    },
    {
     "data": {
      "text/plain": [
       "2835214"
      ]
     },
     "execution_count": 14,
     "metadata": {},
     "output_type": "execute_result"
    }
   ],
   "source": [
    "#get all individual words\n",
    "from collections import Counter\n",
    "import itertools\n",
    "\n",
    "tokens = doc_data.map(tokenizer).to_list() #list of tokeniseddocuments\n",
    "tokens = flatten(tokens) #words\n",
    "counter = Counter(tokens)\n",
    "print(counter.most_common(20))\n",
    "len(tokens)"
   ]
  },
  {
   "cell_type": "markdown",
   "metadata": {},
   "source": [
    "### Bag of Words"
   ]
  },
  {
   "cell_type": "code",
   "execution_count": 15,
   "metadata": {},
   "outputs": [],
   "source": [
    "from sklearn.feature_extraction import DictVectorizer\n",
    "from sklearn.feature_extraction.text import CountVectorizer, TfidfVectorizer, TfidfTransformer\n",
    "\n",
    "# count_vect = CountVectorizer()\n",
    "# counts = count_vect.fit_transform(docs)\n",
    "# tfidf_transformer = TfidfTransformer(use_idf=True)\n",
    "# tfidf = tfidf_transformer.fit_transform(counts)\n",
    "# print(counts.shape)\n",
    "# print(count_vect.vocabulary_.get(u'van'))"
   ]
  },
  {
   "cell_type": "code",
   "execution_count": 16,
   "metadata": {},
   "outputs": [],
   "source": [
    "#using the vectorizer (which includes the counter) instead...\n",
    "#high tf-idf --> high term frequency & low document frequency\n",
    "tfidf_vectorizer = TfidfVectorizer()\n",
    "tfidf = tfidf_vectorizer.fit_transform(docs) #returns CSR matrix DxV\n",
    "idf = tfidf_vectorizer.idf_"
   ]
  },
  {
   "cell_type": "code",
   "execution_count": 17,
   "metadata": {},
   "outputs": [],
   "source": [
    "types = tfidf_vectorizer.get_feature_names_out() #gets unique tokens i.e., types (vocabulary)\n",
    "tfidf_weights = dict(zip(types, idf)) #type - tfidf_score pairs"
   ]
  },
  {
   "cell_type": "code",
   "execution_count": 18,
   "metadata": {},
   "outputs": [
    {
     "data": {
      "text/plain": [
       "1.0519225550270876"
      ]
     },
     "execution_count": 18,
     "metadata": {},
     "output_type": "execute_result"
    }
   ],
   "source": [
    "tfidf_weights[\"van\"]"
   ]
  },
  {
   "cell_type": "code",
   "execution_count": 19,
   "metadata": {},
   "outputs": [],
   "source": [
    "tfidf_array = tfidf.toarray() #converting to numpy array"
   ]
  },
  {
   "cell_type": "code",
   "execution_count": 20,
   "metadata": {},
   "outputs": [
    {
     "data": {
      "text/plain": [
       "array([0., 0., 0., ..., 0., 0., 0.])"
      ]
     },
     "execution_count": 20,
     "metadata": {},
     "output_type": "execute_result"
    }
   ],
   "source": [
    "tfidf_array[0]"
   ]
  },
  {
   "cell_type": "markdown",
   "metadata": {},
   "source": [
    "### Dimensionality Reduction\n",
    "\n",
    "at this point (without stopword removal) our |V| = 55927. It is useful to transform and reduce our input feature space through dimensionality reduction techniques..."
   ]
  },
  {
   "cell_type": "markdown",
   "metadata": {},
   "source": [
    "#### Singular Value Decomposition (SVD)\n",
    "\n",
    "This transformer performs linear dimensionality reduction by means of truncated singular value decomposition (SVD). Contrary to PCA, this estimator does not center the data before computing the singular value decomposition. This means it can work with sparse matrices efficiently.\n",
    "From: https://scikit-learn.org/stable/modules/generated/sklearn.decomposition.TruncatedSVD.html"
   ]
  },
  {
   "cell_type": "code",
   "execution_count": 31,
   "metadata": {},
   "outputs": [],
   "source": [
    "from sklearn.decomposition import TruncatedSVD\n",
    "\n",
    "svd = TruncatedSVD(n_components=3, random_state=42)\n",
    "X_svd = svd.fit_transform(tfidf) #returns shape(n_samples, n_components), type(ndarray), Reduced version of X. This will always be a dense array."
   ]
  },
  {
   "cell_type": "code",
   "execution_count": 32,
   "metadata": {},
   "outputs": [
    {
     "name": "stdout",
     "output_type": "stream",
     "text": [
      "Total variance explained: 0.10\n"
     ]
    }
   ],
   "source": [
    "print(f\"Total variance explained: {np.sum(svd.explained_variance_ratio_):.2f}\")"
   ]
  },
  {
   "cell_type": "code",
   "execution_count": 36,
   "metadata": {},
   "outputs": [
    {
     "data": {
      "text/plain": [
       "(2509, 3)"
      ]
     },
     "execution_count": 36,
     "metadata": {},
     "output_type": "execute_result"
    }
   ],
   "source": [
    "X_svd.shape"
   ]
  },
  {
   "cell_type": "code",
   "execution_count": 56,
   "metadata": {},
   "outputs": [],
   "source": [
    "import json\n",
    "\n",
    "dims_dict = [{'document': doc_i+1, 'title': data['title'][doc_i], 'x':x, 'y':y, 'z':z} for doc_i, [x,y,z] in enumerate(X_svd)]\n",
    "json.dump(dims_dict, open(\"results/prelim_data.json\",'w'), indent=0)"
   ]
  },
  {
   "cell_type": "code",
   "execution_count": null,
   "metadata": {},
   "outputs": [],
   "source": []
  }
 ],
 "metadata": {
  "interpreter": {
   "hash": "e774977668b7c0ae8309835a5187aa7fbf7669e7d0bb59755bc63e573643edcd"
  },
  "kernelspec": {
   "display_name": "Python 3 (ipykernel)",
   "language": "python",
   "name": "python3"
  },
  "language_info": {
   "codemirror_mode": {
    "name": "ipython",
    "version": 3
   },
   "file_extension": ".py",
   "mimetype": "text/x-python",
   "name": "python",
   "nbconvert_exporter": "python",
   "pygments_lexer": "ipython3",
   "version": "3.7.3"
  }
 },
 "nbformat": 4,
 "nbformat_minor": 2
}
